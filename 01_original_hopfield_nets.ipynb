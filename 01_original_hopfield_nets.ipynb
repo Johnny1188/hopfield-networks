{
 "cells": [
  {
   "cell_type": "markdown",
   "metadata": {},
   "source": [
    "# Hopfield Networks"
   ]
  },
  {
   "cell_type": "code",
   "execution_count": null,
   "metadata": {},
   "outputs": [],
   "source": [
    "import numpy as np\n",
    "import matplotlib.pyplot as plt\n",
    "\n",
    "from utils import get_data, get_samples_per_class"
   ]
  },
  {
   "cell_type": "code",
   "execution_count": null,
   "metadata": {},
   "outputs": [],
   "source": [
    "X, y = get_data(max_rows=50)\n",
    "X, y = get_samples_per_class(X, y)\n",
    "\n",
    "plt.imshow(np.vstack(X))\n",
    "plt.imshow(np.concatenate([x.reshape(28,28) for x in X], axis=1))\n",
    "plt.title(str(y))\n",
    "plt.show()\n",
    "print(X.shape, y.shape)"
   ]
  },
  {
   "cell_type": "markdown",
   "metadata": {},
   "source": [
    "Associative memory as a sum of outer products on the N patterns stored (10 mnist images). Values are polar (values -1 and 1): $ x_{i}\\in\\{-1,1\\}^{d} $, where $d$ is the dimension of the patterns.\n",
    "$$\n",
    "\\underbrace{W = \\sum_{i=0}^Nx_{i}x_{i}^{t}}_{\\text{weight matrix storing the patterns}}\n",
    "$$\n",
    "There is a scalar value called energy associated with each state of the network. Energy either decreases or stays the same, furthermore, under repeated updating, the network will eventually converge to a state which is a local minimum of the energy function (which is a *Lyapunov function*):\n",
    "$$\n",
    "E = -\\frac{1}{2}\\sum_{i,j}^{d}w_{i,j}s_{i}s_{j} + \\sum_{i=1}^{d}b_{i}s_{i}\n",
    "$$\n",
    "The update rule of a state $s$, weight matrix $W$, and bias $b$ is given by:\n",
    "$$\n",
    "s^{t+1}=sgn(Ws^{t}-b)\n",
    "$$\n",
    "Stored patterns $x_{i}$ should be fixed points, i.e.\n",
    "$$\n",
    "x_{i} = sgn(Wx_{i}-b)\n",
    "$$\n",
    "*Omitting the bias vector results in a possible retrieval of inversed patterns (with opposite signs of polar values).*"
   ]
  },
  {
   "cell_type": "code",
   "execution_count": null,
   "metadata": {},
   "outputs": [],
   "source": [
    "# turn to polar values\n",
    "X[X < 125] = -1.\n",
    "X[X >= 125] = 1.\n",
    "plt.imshow(np.vstack(X))\n",
    "plt.imshow(np.concatenate([x.reshape(28,28) for x in X], axis=1))\n",
    "plt.title(str(y))\n",
    "plt.show()\n",
    "print(X.shape, y.shape)"
   ]
  },
  {
   "cell_type": "code",
   "execution_count": null,
   "metadata": {},
   "outputs": [],
   "source": [
    "# store patterns\n",
    "class_idxs_stored = [0,1]\n",
    "W = np.sum([x.reshape(1,x.shape[0]).T @ x.reshape(1,x.shape[0]) for x in X[class_idxs_stored]], axis=0)\n",
    "b = np.zeros(shape=(784,1))"
   ]
  },
  {
   "cell_type": "code",
   "execution_count": null,
   "metadata": {},
   "outputs": [],
   "source": [
    "def update_state(s):\n",
    "    return np.sign(W @ s - b)"
   ]
  },
  {
   "cell_type": "code",
   "execution_count": null,
   "metadata": {},
   "outputs": [],
   "source": [
    "# check if stored patterns are in fact fixed points\n",
    "retrieved = []\n",
    "for c_idx in class_idxs_stored:\n",
    "    retrieved.append(update_state(X[c_idx].reshape(784,1)).reshape(28,28))\n",
    "plt.imshow(np.concatenate(retrieved, axis=1))"
   ]
  },
  {
   "cell_type": "code",
   "execution_count": null,
   "metadata": {},
   "outputs": [],
   "source": [
    "# try retrieving random pattern\n",
    "s = np.random.choice([-1.,1.], size=(784,1))\n",
    "steps = []\n",
    "for step_i in range(3):\n",
    "    s = update_state(s)\n",
    "    steps.append(s.reshape(28,28))\n",
    "plt.imshow(np.concatenate(steps, axis=1))\n",
    "plt.title(\"Retrieval steps\")"
   ]
  },
  {
   "cell_type": "markdown",
   "metadata": {},
   "source": [
    "Results show **high overlap of retrieved patterns** which is due to the fact that the **data (patterns) we want to store are highly correlated**."
   ]
  }
 ],
 "metadata": {
  "kernelspec": {
   "display_name": "Python 3.10.4 ('hopfield')",
   "language": "python",
   "name": "python3"
  },
  "language_info": {
   "codemirror_mode": {
    "name": "ipython",
    "version": 3
   },
   "file_extension": ".py",
   "mimetype": "text/x-python",
   "name": "python",
   "nbconvert_exporter": "python",
   "pygments_lexer": "ipython3",
   "version": "3.10.4"
  },
  "orig_nbformat": 4,
  "vscode": {
   "interpreter": {
    "hash": "a5ee81bd40054adee790dad25ad537945a618ceb79f57194cc2ed7952e8a1a1f"
   }
  }
 },
 "nbformat": 4,
 "nbformat_minor": 2
}
